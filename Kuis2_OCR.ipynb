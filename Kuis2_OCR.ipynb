{
  "nbformat": 4,
  "nbformat_minor": 0,
  "metadata": {
    "colab": {
      "provenance": [],
      "authorship_tag": "ABX9TyPx17Qbi4p6CMS59UZ6yYdl"
    },
    "kernelspec": {
      "name": "python3",
      "display_name": "Python 3"
    },
    "language_info": {
      "name": "python"
    }
  },
  "cells": [
    {
      "cell_type": "markdown",
      "source": [
        "---\n",
        "\n",
        "# **KUIS 2**\n",
        "\n",
        "- ### **Masfudin Dwi Cahyo (3D/17/2141720010)**\n",
        "- ### **Muhammad Akbar Nur Ihsan (3D/22/2141720225)**\n",
        "- ### **Mukhamad Faruq Al Fahmi (3D/25/2141720066)**"
      ],
      "metadata": {
        "id": "n5CxIjg0JnLi"
      }
    },
    {
      "cell_type": "markdown",
      "source": [
        "\n",
        "\n",
        "---\n",
        "# **Kuis Tesseract OCR**\n",
        "\n",
        "## Membuat program OCR untuk mengekstrak text dari data ktp, dengan input foto ktp dan output text.\n",
        "\n",
        "---\n",
        "\n"
      ],
      "metadata": {
        "id": "EoOAqYukJ9yW"
      }
    },
    {
      "cell_type": "code",
      "execution_count": null,
      "metadata": {
        "id": "koSrEKbGGIVD"
      },
      "outputs": [],
      "source": []
    }
  ]
}