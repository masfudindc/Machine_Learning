{
  "nbformat": 4,
  "nbformat_minor": 0,
  "metadata": {
    "colab": {
      "provenance": [],
      "authorship_tag": "ABX9TyNMZt0N14L7EiEvDzPSQ2JA",
      "include_colab_link": true
    },
    "kernelspec": {
      "name": "python3",
      "display_name": "Python 3"
    },
    "language_info": {
      "name": "python"
    }
  },
  "cells": [
    {
      "cell_type": "markdown",
      "metadata": {
        "id": "view-in-github",
        "colab_type": "text"
      },
      "source": [
        "<a href=\"https://colab.research.google.com/github/masfudindc/Machine_Learning/blob/main/Week11_Praktikum1.ipynb\" target=\"_parent\"><img src=\"https://colab.research.google.com/assets/colab-badge.svg\" alt=\"Open In Colab\"/></a>"
      ]
    },
    {
      "cell_type": "markdown",
      "source": [
        "# **Klasifikasi 🐱 dan 🐶 dengan Convolutional Neural Network (CNN)**\n",
        "\n",
        "\n",
        "---\n",
        "\n"
      ],
      "metadata": {
        "id": "6hbOUjCjnjJx"
      }
    },
    {
      "cell_type": "markdown",
      "source": [
        "# **Deskripsi**\n",
        "\n",
        "Pada praktikum ini kita akan membuat model klasifikasi CNN sederhana pada kasus citra kucing dan anjing.\n",
        "\n",
        "# **Dataset**\n",
        "\n",
        "Dataset merupakan data citra anjing dan kucing yang telah dibagi menjadi data training dan data testing. Dikarenakan data cukup besar, pastikan koneksi Anda sebelum mengunduh dataset.\n",
        "\n",
        "[DOWNLOAD](https://drive.google.com/file/d/1vYrqBI1VmiXXJd5sgtKK2nuQvC8T1ryb/view?usp=drive_link)\n",
        "\n",
        "\n",
        "---\n",
        "\n"
      ],
      "metadata": {
        "id": "-iQraJt4n6DT"
      }
    },
    {
      "cell_type": "markdown",
      "source": [
        "# **Langkah 1 - Import Library**"
      ],
      "metadata": {
        "id": "kAQbpm4429tC"
      }
    },
    {
      "cell_type": "code",
      "execution_count": null,
      "metadata": {
        "id": "SGdS7S_UmcvO"
      },
      "outputs": [],
      "source": [
        "import tensorflow as tf\n",
        "from keras.preprocessing.image import ImageDataGenerator"
      ]
    },
    {
      "cell_type": "markdown",
      "source": [
        "# **Load Data**"
      ],
      "metadata": {
        "id": "O01X-x9g3g0O"
      }
    },
    {
      "cell_type": "code",
      "source": [
        "from google.colab import drive\n",
        "drive.mount('/content/drive')"
      ],
      "metadata": {
        "colab": {
          "base_uri": "https://localhost:8080/"
        },
        "id": "GZVWLDK2vARz",
        "outputId": "d20c93f1-732b-4da5-c147-a02d2e116b82"
      },
      "execution_count": null,
      "outputs": [
        {
          "output_type": "stream",
          "name": "stdout",
          "text": [
            "Mounted at /content/drive\n"
          ]
        }
      ]
    },
    {
      "cell_type": "code",
      "source": [
        "# Load data bertipe zip dengan library zipfile\n",
        "from zipfile import ZipFile\n",
        "with ZipFile('/content/drive/MyDrive/Machine Learning/dataset.zip', 'r') as zip:\n",
        "  zip.extractall('/content/drive/MyDrive/Machine Learning/Week 11')"
      ],
      "metadata": {
        "id": "NMCx-V_rA1z-"
      },
      "execution_count": null,
      "outputs": []
    },
    {
      "cell_type": "markdown",
      "source": [
        "# **Langkah 2 - Preprocessing Data**"
      ],
      "metadata": {
        "id": "zgYH5inE3xyy"
      }
    },
    {
      "cell_type": "markdown",
      "source": [
        "Pada tahap ini kita akan sedikit melakukan manipulasi pada citra yang digunakan. Manipulasi yang dilakukan diantaranya adalah normalisasi nilai piksel, koreksi kemiringan, pembesaran (zoom), dan flip."
      ],
      "metadata": {
        "id": "-gYfSNkfoveS"
      }
    },
    {
      "cell_type": "markdown",
      "source": [
        "**Langkah 2.1 - Preprocessing Data Training**"
      ],
      "metadata": {
        "id": "Hq1TTv7H4em0"
      }
    },
    {
      "cell_type": "code",
      "source": [
        "train_datagen = ImageDataGenerator(rescale = 1./255,\n",
        "                                   shear_range = 0.2,\n",
        "                                   zoom_range = 0.2,\n",
        "                                   horizontal_flip = True)\n",
        "training_set = train_datagen.flow_from_directory('/content/drive/MyDrive/Machine Learning/Week 11/dataset/training_set',\n",
        "                                                 target_size = (64, 64),\n",
        "                                                 batch_size = 32,\n",
        "                                                 class_mode = 'binary')"
      ],
      "metadata": {
        "colab": {
          "base_uri": "https://localhost:8080/"
        },
        "id": "v0OhCyqfpFi4",
        "outputId": "8d46e9b8-e1be-4c4e-bc51-556109b85412"
      },
      "execution_count": null,
      "outputs": [
        {
          "output_type": "stream",
          "name": "stdout",
          "text": [
            "Found 8000 images belonging to 2 classes.\n"
          ]
        }
      ]
    },
    {
      "cell_type": "markdown",
      "source": [
        "**Langkah 2.2 - Preprocessing Data Testing**"
      ],
      "metadata": {
        "id": "Tg_u3nvMpna_"
      }
    },
    {
      "cell_type": "code",
      "source": [
        "test_datagen = ImageDataGenerator(rescale = 1./255)\n",
        "test_set = test_datagen.flow_from_directory('/content/drive/MyDrive/Machine Learning/Week 11/dataset/test_set',\n",
        "                                            target_size = (64, 64),\n",
        "                                            batch_size = 32,\n",
        "                                            class_mode = 'binary')"
      ],
      "metadata": {
        "colab": {
          "base_uri": "https://localhost:8080/"
        },
        "id": "SJqWEc6LpqD9",
        "outputId": "a236b24c-8f97-4f60-ba1e-9824f73f73d6"
      },
      "execution_count": null,
      "outputs": [
        {
          "output_type": "stream",
          "name": "stdout",
          "text": [
            "Found 2000 images belonging to 2 classes.\n"
          ]
        }
      ]
    },
    {
      "cell_type": "markdown",
      "source": [
        "# **Langkah 3 - Pembuatan Model CNN**"
      ],
      "metadata": {
        "id": "SoFQTi20psdl"
      }
    },
    {
      "cell_type": "markdown",
      "source": [
        "**Langkah 3.1  - Inisiasi Model CNN**"
      ],
      "metadata": {
        "id": "hSFQtADO4xMe"
      }
    },
    {
      "cell_type": "code",
      "source": [
        "cnn = tf.keras.models.Sequential()"
      ],
      "metadata": {
        "id": "liYO6uoxqLu-"
      },
      "execution_count": null,
      "outputs": []
    },
    {
      "cell_type": "markdown",
      "source": [
        "**Langkah 3.2 - Pembuatan Layer Konvolusi 1**"
      ],
      "metadata": {
        "id": "qKM--HYwqN0D"
      }
    },
    {
      "cell_type": "code",
      "source": [
        "cnn.add(tf.keras.layers.Conv2D(filters=32, kernel_size=3, activation='relu', input_shape=[64, 64, 3]))"
      ],
      "metadata": {
        "id": "RwKDC9WFqPy1"
      },
      "execution_count": null,
      "outputs": []
    },
    {
      "cell_type": "markdown",
      "source": [
        "**Langkah 3.3 - Pembuatan Layer Pooling 1**"
      ],
      "metadata": {
        "id": "z1OsrwDZqS0_"
      }
    },
    {
      "cell_type": "code",
      "source": [
        "cnn.add(tf.keras.layers.MaxPool2D(pool_size=2, strides=2))"
      ],
      "metadata": {
        "id": "kSG4L1BpqUtr"
      },
      "execution_count": null,
      "outputs": []
    },
    {
      "cell_type": "markdown",
      "source": [
        "**Langkah 3.4 - Pembuatan Layer Konvolusi 2 dan Pooling 2**"
      ],
      "metadata": {
        "id": "B3EmJmhwqWhS"
      }
    },
    {
      "cell_type": "code",
      "source": [
        "cnn.add(tf.keras.layers.Conv2D(filters=32, kernel_size=3, activation='relu'))\n",
        "cnn.add(tf.keras.layers.MaxPool2D(pool_size=2, strides=2))"
      ],
      "metadata": {
        "id": "c2n_87MyqYus"
      },
      "execution_count": null,
      "outputs": []
    },
    {
      "cell_type": "markdown",
      "source": [
        "**Langkah 3.5 - Flattening**"
      ],
      "metadata": {
        "id": "0oquDe6LqarD"
      }
    },
    {
      "cell_type": "code",
      "source": [
        "cnn.add(tf.keras.layers.Flatten())"
      ],
      "metadata": {
        "id": "xEcXWm3CqcxM"
      },
      "execution_count": null,
      "outputs": []
    },
    {
      "cell_type": "markdown",
      "source": [
        "**Langkah 3.6 - Fully Connected Layer 1 (Input)**"
      ],
      "metadata": {
        "id": "pZP8kYnvqejs"
      }
    },
    {
      "cell_type": "code",
      "source": [
        "cnn.add(tf.keras.layers.Dense(units=128, activation='relu'))"
      ],
      "metadata": {
        "id": "l3xWWkhbqiMN"
      },
      "execution_count": null,
      "outputs": []
    },
    {
      "cell_type": "markdown",
      "source": [
        "**Langkah 3.7 - Fully Connected Layer 2 (Output)**"
      ],
      "metadata": {
        "id": "zCDQS_2-qk1G"
      }
    },
    {
      "cell_type": "code",
      "source": [
        "cnn.add(tf.keras.layers.Dense(units=1, activation='sigmoid'))"
      ],
      "metadata": {
        "id": "WiYRxyb9qm40"
      },
      "execution_count": null,
      "outputs": []
    },
    {
      "cell_type": "markdown",
      "source": [
        "**Langkah 3.8 - Compile Model CNN**"
      ],
      "metadata": {
        "id": "OrKU--mFqozj"
      }
    },
    {
      "cell_type": "code",
      "source": [
        "cnn.compile(optimizer = 'adam', loss = 'binary_crossentropy', metrics = ['accuracy'])"
      ],
      "metadata": {
        "id": "mO5y4BKrqr40"
      },
      "execution_count": null,
      "outputs": []
    },
    {
      "cell_type": "markdown",
      "source": [
        "Penggunaan **loss function binary crossentropy** dikarenakan kita hanya melakukan klasifikasi pada dua kelas, yaitu kucing dan anjing."
      ],
      "metadata": {
        "id": "Y8oidcs3qvsy"
      }
    },
    {
      "cell_type": "markdown",
      "source": [
        "# **Langkah 4 - Fit CNN**"
      ],
      "metadata": {
        "id": "03CcOGokq2Jw"
      }
    },
    {
      "cell_type": "code",
      "source": [
        "cnn.fit(x = training_set, validation_data = test_set, epochs = 25)"
      ],
      "metadata": {
        "colab": {
          "base_uri": "https://localhost:8080/"
        },
        "id": "wGbMv6ukq7U2",
        "outputId": "bd37f8da-1891-4bf5-e589-2fb3fb1d22f9"
      },
      "execution_count": null,
      "outputs": [
        {
          "output_type": "stream",
          "name": "stdout",
          "text": [
            "Epoch 1/25\n",
            "250/250 [==============================] - 47s 141ms/step - loss: 0.6634 - accuracy: 0.6018 - val_loss: 0.6050 - val_accuracy: 0.6760\n",
            "Epoch 2/25\n",
            "250/250 [==============================] - 37s 149ms/step - loss: 0.5986 - accuracy: 0.6809 - val_loss: 0.5887 - val_accuracy: 0.7015\n",
            "Epoch 3/25\n",
            "250/250 [==============================] - 35s 141ms/step - loss: 0.5474 - accuracy: 0.7191 - val_loss: 0.5302 - val_accuracy: 0.7360\n",
            "Epoch 4/25\n",
            "250/250 [==============================] - 35s 141ms/step - loss: 0.5211 - accuracy: 0.7398 - val_loss: 0.5123 - val_accuracy: 0.7510\n",
            "Epoch 5/25\n",
            "250/250 [==============================] - 35s 142ms/step - loss: 0.4930 - accuracy: 0.7609 - val_loss: 0.4987 - val_accuracy: 0.7590\n",
            "Epoch 6/25\n",
            "250/250 [==============================] - 37s 147ms/step - loss: 0.4826 - accuracy: 0.7665 - val_loss: 0.5008 - val_accuracy: 0.7560\n",
            "Epoch 7/25\n",
            "250/250 [==============================] - 35s 139ms/step - loss: 0.4592 - accuracy: 0.7875 - val_loss: 0.4655 - val_accuracy: 0.7860\n",
            "Epoch 8/25\n",
            "250/250 [==============================] - 38s 153ms/step - loss: 0.4479 - accuracy: 0.7886 - val_loss: 0.4586 - val_accuracy: 0.7900\n",
            "Epoch 9/25\n",
            "250/250 [==============================] - 36s 146ms/step - loss: 0.4300 - accuracy: 0.8001 - val_loss: 0.4858 - val_accuracy: 0.7640\n",
            "Epoch 10/25\n",
            "250/250 [==============================] - 34s 138ms/step - loss: 0.4140 - accuracy: 0.8115 - val_loss: 0.4285 - val_accuracy: 0.8025\n",
            "Epoch 11/25\n",
            "250/250 [==============================] - 35s 140ms/step - loss: 0.4039 - accuracy: 0.8110 - val_loss: 0.4653 - val_accuracy: 0.7790\n",
            "Epoch 12/25\n",
            "250/250 [==============================] - 43s 172ms/step - loss: 0.3796 - accuracy: 0.8259 - val_loss: 0.4358 - val_accuracy: 0.8135\n",
            "Epoch 13/25\n",
            "250/250 [==============================] - 35s 138ms/step - loss: 0.3755 - accuracy: 0.8326 - val_loss: 0.4440 - val_accuracy: 0.8000\n",
            "Epoch 14/25\n",
            "250/250 [==============================] - 35s 142ms/step - loss: 0.3577 - accuracy: 0.8407 - val_loss: 0.4460 - val_accuracy: 0.8055\n",
            "Epoch 15/25\n",
            "250/250 [==============================] - 35s 142ms/step - loss: 0.3607 - accuracy: 0.8371 - val_loss: 0.4451 - val_accuracy: 0.8110\n",
            "Epoch 16/25\n",
            "250/250 [==============================] - 38s 151ms/step - loss: 0.3459 - accuracy: 0.8466 - val_loss: 0.4420 - val_accuracy: 0.8055\n",
            "Epoch 17/25\n",
            "250/250 [==============================] - 35s 141ms/step - loss: 0.3362 - accuracy: 0.8516 - val_loss: 0.4937 - val_accuracy: 0.7985\n",
            "Epoch 18/25\n",
            "250/250 [==============================] - 35s 141ms/step - loss: 0.3148 - accuracy: 0.8612 - val_loss: 0.4939 - val_accuracy: 0.8035\n",
            "Epoch 19/25\n",
            "250/250 [==============================] - 37s 149ms/step - loss: 0.3050 - accuracy: 0.8700 - val_loss: 0.4818 - val_accuracy: 0.7985\n",
            "Epoch 20/25\n",
            "250/250 [==============================] - 36s 144ms/step - loss: 0.2941 - accuracy: 0.8735 - val_loss: 0.4742 - val_accuracy: 0.8065\n",
            "Epoch 21/25\n",
            "250/250 [==============================] - 36s 142ms/step - loss: 0.2821 - accuracy: 0.8799 - val_loss: 0.4931 - val_accuracy: 0.8060\n",
            "Epoch 22/25\n",
            "250/250 [==============================] - 35s 140ms/step - loss: 0.2736 - accuracy: 0.8819 - val_loss: 0.5101 - val_accuracy: 0.7985\n",
            "Epoch 23/25\n",
            "250/250 [==============================] - 39s 154ms/step - loss: 0.2549 - accuracy: 0.8896 - val_loss: 0.5367 - val_accuracy: 0.7935\n",
            "Epoch 24/25\n",
            "250/250 [==============================] - 41s 165ms/step - loss: 0.2443 - accuracy: 0.8994 - val_loss: 0.4720 - val_accuracy: 0.8185\n",
            "Epoch 25/25\n",
            "250/250 [==============================] - 48s 193ms/step - loss: 0.2352 - accuracy: 0.9016 - val_loss: 0.4876 - val_accuracy: 0.8075\n"
          ]
        },
        {
          "output_type": "execute_result",
          "data": {
            "text/plain": [
              "<keras.src.callbacks.History at 0x78c48a96a620>"
            ]
          },
          "metadata": {},
          "execution_count": 14
        }
      ]
    },
    {
      "cell_type": "markdown",
      "source": [
        "# **Langkah 5 - Prediksi dengan 1 Citra**"
      ],
      "metadata": {
        "id": "S_WYAm_Aq9mU"
      }
    },
    {
      "cell_type": "markdown",
      "source": [
        "Pada langkah ini, kita akan mencoba melakukan prediksi pada 1 citra anjing dan kucing."
      ],
      "metadata": {
        "id": "VQH1Tr0lrCKz"
      }
    },
    {
      "cell_type": "code",
      "source": [
        "import numpy as np\n",
        "from keras.preprocessing import image\n",
        "test_image = image.load_img('/content/drive/MyDrive/Machine Learning/Week 11/dataset/single_prediction/cat_or_dog_1.jpg', target_size = (64, 64))\n",
        "test_image = image.img_to_array(test_image)\n",
        "test_image = np.expand_dims(test_image, axis = 0)\n",
        "result = cnn.predict(test_image)\n",
        "training_set.class_indices\n",
        "if result[0][0] == 1:\n",
        "  prediction = 'dog'\n",
        "else:\n",
        "  prediction = 'cat'"
      ],
      "metadata": {
        "id": "PpFvx5BhrEFs",
        "colab": {
          "base_uri": "https://localhost:8080/"
        },
        "outputId": "a629e3c6-136b-4332-ccf4-966da721e51f"
      },
      "execution_count": null,
      "outputs": [
        {
          "output_type": "stream",
          "name": "stdout",
          "text": [
            "1/1 [==============================] - 0s 153ms/step\n"
          ]
        }
      ]
    }
  ]
}