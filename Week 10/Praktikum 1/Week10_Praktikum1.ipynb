{
  "nbformat": 4,
  "nbformat_minor": 0,
  "metadata": {
    "colab": {
      "provenance": [],
      "authorship_tag": "ABX9TyNfRwhIcrm48i80Fm+ZjTIa",
      "include_colab_link": true
    },
    "kernelspec": {
      "name": "python3",
      "display_name": "Python 3"
    },
    "language_info": {
      "name": "python"
    }
  },
  "cells": [
    {
      "cell_type": "markdown",
      "metadata": {
        "id": "view-in-github",
        "colab_type": "text"
      },
      "source": [
        "<a href=\"https://colab.research.google.com/github/masfudindc/Machine_Learning/blob/main/Week10_Praktikum1.ipynb\" target=\"_parent\"><img src=\"https://colab.research.google.com/assets/colab-badge.svg\" alt=\"Open In Colab\"/></a>"
      ]
    },
    {
      "cell_type": "markdown",
      "source": [
        "# **RNN untuk Analisis Sentimen**\n",
        "\n",
        "\n",
        "\n",
        "---\n",
        "\n"
      ],
      "metadata": {
        "id": "nDELchWQg0IY"
      }
    },
    {
      "cell_type": "markdown",
      "source": [
        "# **Import Library**\n",
        "\n",
        "Impor matplotlib dan buat fungsi pembantu untuk memplot grafik"
      ],
      "metadata": {
        "id": "0Pgqh3Khg4dp"
      }
    },
    {
      "cell_type": "code",
      "execution_count": null,
      "metadata": {
        "id": "uGwSgYwbgS2u"
      },
      "outputs": [],
      "source": [
        "import numpy as np\n",
        "import tensorflow_datasets as tfds\n",
        "import tensorflow as tf\n",
        "\n",
        "tfds.disable_progress_bar()"
      ]
    },
    {
      "cell_type": "code",
      "source": [
        "import matplotlib.pyplot as plt\n",
        "\n",
        "def plot_graphs(history, metric):\n",
        "  plt.plot(history.history[metric])\n",
        "  plt.plot(history.history['val_'+metric], '')\n",
        "  plt.xlabel(\"Epochs\")\n",
        "  plt.ylabel(metric)\n",
        "  plt.legend([metric, 'val_'+metric])"
      ],
      "metadata": {
        "id": "H1RDfCyvhUb3"
      },
      "execution_count": null,
      "outputs": []
    },
    {
      "cell_type": "markdown",
      "source": [
        "# **Setup Input Pipeline**"
      ],
      "metadata": {
        "id": "gU9jdPflhkXP"
      }
    },
    {
      "cell_type": "markdown",
      "source": [
        "Dataset ulasan film IMDB adalah kumpulan data klasifikasi biner—semua ulasan memiliki sentimen positif atau negatif.\n",
        "\n",
        "Download dataset menggunakan TFDS (https://www.tensorflow.org/datasets). Lihat loading text tutorial (https://www.tensorflow.org/tutorials/load_data/text) jika ingin me load data secara manual"
      ],
      "metadata": {
        "id": "89di_oxHiLAE"
      }
    },
    {
      "cell_type": "code",
      "source": [
        "dataset, info = tfds.load('imdb_reviews', with_info=True,\n",
        "                          as_supervised=True)\n",
        "train_dataset, test_dataset = dataset['train'], dataset['test']\n",
        "\n",
        "train_dataset.element_spec"
      ],
      "metadata": {
        "id": "6p4Jb8CiiJ1Q"
      },
      "execution_count": null,
      "outputs": []
    },
    {
      "cell_type": "markdown",
      "source": [
        "Awalnya ini mengembalikan dataset (teks, pasangan label):"
      ],
      "metadata": {
        "id": "WBBBi1yvi77Y"
      }
    },
    {
      "cell_type": "code",
      "source": [
        "for example, label in train_dataset.take(1):\n",
        "  print('text: ', example.numpy())\n",
        "  print('label: ', label.numpy())"
      ],
      "metadata": {
        "id": "AJy4X2s7i8oe"
      },
      "execution_count": null,
      "outputs": []
    },
    {
      "cell_type": "markdown",
      "source": [
        "Berikutnya acak data untuk pelatihan dan membuat kumpulan pasangan (teks, label) ini:"
      ],
      "metadata": {
        "id": "VlJbHhBpi9nT"
      }
    },
    {
      "cell_type": "code",
      "source": [
        "BUFFER_SIZE = 10000\n",
        "BATCH_SIZE = 64\n",
        "\n",
        "train_dataset = train_dataset.shuffle(BUFFER_SIZE).batch(BATCH_SIZE).prefetch(tf.data.AUTOTUNE)\n",
        "test_dataset = test_dataset.batch(BATCH_SIZE).prefetch(tf.data.AUTOTUNE)\n",
        "\n",
        "for example, label in train_dataset.take(1):\n",
        "  print('texts: ', example.numpy()[:3])\n",
        "  print()\n",
        "  print('labels: ', label.numpy()[:3])\n"
      ],
      "metadata": {
        "id": "fOWsvXQRi_gQ"
      },
      "execution_count": null,
      "outputs": []
    },
    {
      "cell_type": "markdown",
      "source": [
        "# **Buat Teks Encoder**"
      ],
      "metadata": {
        "id": "50C6pi5sjE6V"
      }
    },
    {
      "cell_type": "markdown",
      "source": [
        "Teks mentah yang dimuat oleh tfds perlu diproses sebelum dapat digunakan dalam model. Cara termudah memproses teks untuk pelatihan adalah menggunakan lapisan TextVectorization. Lapisan ini memiliki banyak kemampuan, namun pada tutorial ini menggunakan perilaku default. Buat lapisan tersebut, dan teruskan teks kumpulan data ke metode .adapt lapisan:"
      ],
      "metadata": {
        "id": "Vev2ZrMajIVN"
      }
    },
    {
      "cell_type": "code",
      "source": [
        "VOCAB_SIZE = 1000\n",
        "encoder = tf.keras.layers.TextVectorization(\n",
        "    max_tokens=VOCAB_SIZE)\n",
        "encoder.adapt(train_dataset.map(lambda text, label: text))"
      ],
      "metadata": {
        "id": "mmQA1n9xjK6j"
      },
      "execution_count": null,
      "outputs": []
    },
    {
      "cell_type": "markdown",
      "source": [
        "Metode .adapt mengatur kosakata lapisan. 20 token pertama dapat dilihat dengan kode berikut. Setelah padding dan token yang tidak diketahui, mereka diurutkan berdasarkan frekuensi:"
      ],
      "metadata": {
        "id": "nmdHIel9jM77"
      }
    },
    {
      "cell_type": "code",
      "source": [
        "vocab = np.array(encoder.get_vocabulary())\n",
        "vocab[:20]"
      ],
      "metadata": {
        "id": "okf5_1fFjNfd"
      },
      "execution_count": null,
      "outputs": []
    },
    {
      "cell_type": "markdown",
      "source": [
        "Setelah kosakata diatur, lapisan dapat mengkodekan teks ke dalam indeks. Tensor indeks diberi bantalan 0 ke urutan terpanjang dalam batch (kecuali jika Anda menetapkan output_sequence_length tetap):"
      ],
      "metadata": {
        "id": "Ctyu7HPhjOms"
      }
    },
    {
      "cell_type": "code",
      "source": [
        "encoded_example = encoder(example)[:3].numpy()\n",
        "encoded_example"
      ],
      "metadata": {
        "id": "lVC_n6pjjQrh"
      },
      "execution_count": null,
      "outputs": []
    },
    {
      "cell_type": "markdown",
      "source": [
        "Dengan pengaturan default, prosesnya tidak dapat dibalik sepenuhnya. Ada dua alasan utama untuk itu:\n",
        "\n",
        "- Nilai default untuk argumen standarisasi preprocessing.TextVectorization adalah \"lower_and_strip_punctuation\".\n",
        "\n",
        "- Ukuran kosa kata yang terbatas dan kurangnya fallback berbasis karakter menghasilkan beberapa token yang tidak diketahui."
      ],
      "metadata": {
        "id": "x5xaEwv7jSA4"
      }
    },
    {
      "cell_type": "code",
      "source": [
        "for n in range(3):\n",
        "  print(\"Original: \", example[n].numpy())\n",
        "  print(\"Round-trip: \", \" \".join(vocab[encoded_example[n]]))\n",
        "  print()"
      ],
      "metadata": {
        "id": "XIhqwlQdj1WY"
      },
      "execution_count": null,
      "outputs": []
    },
    {
      "cell_type": "markdown",
      "source": [
        "# **Buat Model**"
      ],
      "metadata": {
        "id": "n2KFOPIkj13X"
      }
    },
    {
      "cell_type": "markdown",
      "source": [
        "![image.png](data:image/png;base64,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)"
      ],
      "metadata": {
        "id": "Gg6NBg60j5Af"
      }
    },
    {
      "cell_type": "markdown",
      "source": [
        "diagram model dapat dilihat pada gambar diatas\n",
        "\n",
        "1. Model ini dapat dibuat sebagai tf.keras.Sequential.\n",
        "\n",
        "2. Lapisan pertama adalah encoder, yang mengubah teks menjadi urutan indeks token.\n",
        "\n",
        "3. Setelah encoder adalah lapisan penyematan (embedding layer). Lapisan penyematan menyimpan satu vektor per kata. Saat dipanggil, ini mengubah rangkaian indeks kata menjadi rangkaian vektor. Vektor-vektor ini dapat dilatih. Setelah pelatihan (dengan data yang cukup), kata-kata dengan arti yang mirip sering kali memiliki vektor yang serupa. Pencarian indeks ini jauh lebih efisien daripada operasi setara dengan meneruskan vektor yang disandikan one-hot melalui lapisan tf.keras.layers.Dense.\n",
        "\n",
        "4. Jaringan saraf berulang (RNN) memproses masukan urutan dengan melakukan iterasi melalui elemen. RNN meneruskan keluaran dari satu langkah waktu ke masukannya pada langkah waktu berikutnya.\n",
        "Pembungkus tf.keras.layers.Bidirection juga dapat digunakan dengan lapisan RNN. Ini menyebarkan masukan maju dan mundur melalui lapisan RNN dan kemudian menggabungkan keluaran akhir.\n",
        "- Keuntungan utama RNN dua arah adalah sinyal dari awal masukan tidak perlu diproses sepanjang waktu untuk memengaruhi keluaran.\n",
        "- Kerugian utama dari RNN dua arah adalah Anda tidak dapat melakukan streaming prediksi secara efisien saat kata-kata ditambahkan di akhir.\n",
        "\n",
        "\n",
        "5. Setelah RNN mengonversi urutan menjadi satu vektor, kedua lapisan tersebut.Dense melakukan beberapa pemrosesan akhir, dan mengonversi representasi vektor ini menjadi logit tunggal sebagai keluaran klasifikasi."
      ],
      "metadata": {
        "id": "jxe7HQBDk0pz"
      }
    },
    {
      "cell_type": "markdown",
      "source": [
        "Kode nya adalah sebagai berikut :"
      ],
      "metadata": {
        "id": "fquJtTCjljch"
      }
    },
    {
      "cell_type": "code",
      "source": [
        "model = tf.keras.Sequential([\n",
        "    encoder,\n",
        "    tf.keras.layers.Embedding(\n",
        "        input_dim=len(encoder.get_vocabulary()),\n",
        "        output_dim=64,\n",
        "        # Use masking to handle the variable sequence lengths\n",
        "        mask_zero=True),\n",
        "    tf.keras.layers.Bidirectional(tf.keras.layers.LSTM(64)),\n",
        "    tf.keras.layers.Dense(64, activation='relu'),\n",
        "    tf.keras.layers.Dense(1)\n",
        "])"
      ],
      "metadata": {
        "id": "muWBuk0Uj4KS"
      },
      "execution_count": null,
      "outputs": []
    },
    {
      "cell_type": "markdown",
      "source": [
        "Harap dicatat bahwa model sekuensial Keras digunakan di sini karena semua lapisan dalam model hanya memiliki masukan tunggal dan menghasilkan keluaran tunggal. Jika Anda ingin menggunakan lapisan RNN stateful, Anda mungkin ingin membangun model Anda dengan API fungsional Keras atau subkelas model sehingga Anda dapat mengambil dan menggunakan kembali status lapisan RNN. Untuk detailnya bisa dilihat pada Keras RNN guide (https://www.tensorflow.org/guide/keras/rnn#rnn_state_reuse).\n",
        "\n",
        "Lapisan penyematan menggunakan masking (https://www.tensorflow.org/guide/keras/masking_and_padding) untuk menangani panjang urutan yang bervariasi. Semua lapisan setelah penyematan dukungan penyematan"
      ],
      "metadata": {
        "id": "unNQjkgKlmI6"
      }
    },
    {
      "cell_type": "code",
      "source": [
        "print([layer.supports_masking for layer in model.layers])"
      ],
      "metadata": {
        "id": "Qrk0Ge0dmeI0"
      },
      "execution_count": null,
      "outputs": []
    },
    {
      "cell_type": "markdown",
      "source": [
        "Untuk memastikan bahwa ini berfungsi seperti yang diharapkan, evaluasi sebuah kalimat dua kali. Pertama, satu kalimat sehingga tidak ada bantalan (padding) untuk disamarkan:"
      ],
      "metadata": {
        "id": "KSE53IlCmfHy"
      }
    },
    {
      "cell_type": "code",
      "source": [
        "# predict on a sample text without padding.\n",
        "\n",
        "sample_text = ('The movie was cool. The animation and the graphics '\n",
        "               'were out of this world. I would recommend this movie.')\n",
        "predictions = model.predict(np.array([sample_text]))\n",
        "print(predictions[0])"
      ],
      "metadata": {
        "id": "zAL1Q5RvmiKN"
      },
      "execution_count": null,
      "outputs": []
    },
    {
      "cell_type": "markdown",
      "source": [
        "Sekarang, evaluasi lagi dalam batch dengan kalimat yang lebih panjang. Hasilnya harus sama:"
      ],
      "metadata": {
        "id": "dsrrD38Zmj4l"
      }
    },
    {
      "cell_type": "code",
      "source": [
        "# predict on a sample text with padding\n",
        "\n",
        "padding = \"the \" * 2000\n",
        "predictions = model.predict(np.array([sample_text, padding]))\n",
        "print(predictions[0])"
      ],
      "metadata": {
        "id": "eU_4TdcxmkhM"
      },
      "execution_count": null,
      "outputs": []
    },
    {
      "cell_type": "markdown",
      "source": [
        "compile model Keras untuk mengonfigurasi proses pelatihan:"
      ],
      "metadata": {
        "id": "4pPdPzpeml_i"
      }
    },
    {
      "cell_type": "code",
      "source": [
        "model.compile(loss=tf.keras.losses.BinaryCrossentropy(from_logits=True),\n",
        "              optimizer=tf.keras.optimizers.Adam(1e-4),\n",
        "              metrics=['accuracy'])"
      ],
      "metadata": {
        "id": "cENH3BMNmmnq"
      },
      "execution_count": null,
      "outputs": []
    },
    {
      "cell_type": "markdown",
      "source": [
        "# **Train Model**"
      ],
      "metadata": {
        "id": "jreqTtrcmnOp"
      }
    },
    {
      "cell_type": "code",
      "source": [
        "history = model.fit(train_dataset, epochs=10,\n",
        "                    validation_data=test_dataset,\n",
        "                    validation_steps=30)"
      ],
      "metadata": {
        "id": "CQldaBnXmqGK"
      },
      "execution_count": null,
      "outputs": []
    },
    {
      "cell_type": "code",
      "source": [
        "test_loss, test_acc = model.evaluate(test_dataset)\n",
        "\n",
        "print('Test Loss:', test_loss)\n",
        "print('Test Accuracy:', test_acc)"
      ],
      "metadata": {
        "id": "EnMQb0G8nInY"
      },
      "execution_count": null,
      "outputs": []
    },
    {
      "cell_type": "code",
      "source": [
        "plt.figure(figsize=(16, 8))\n",
        "plt.subplot(1, 2, 1)\n",
        "plot_graphs(history, 'accuracy')\n",
        "plt.ylim(None, 1)\n",
        "plt.subplot(1, 2, 2)\n",
        "plot_graphs(history, 'loss')\n",
        "plt.ylim(0, None)"
      ],
      "metadata": {
        "id": "S66vnmQKnJy1"
      },
      "execution_count": null,
      "outputs": []
    },
    {
      "cell_type": "markdown",
      "source": [
        "Jalankan prediksi pada kalimat baru:\n",
        "\n",
        "Jika prediksi >= 0,0 berarti positif, jika tidak maka negatif."
      ],
      "metadata": {
        "id": "SGKkwIjDnLEM"
      }
    },
    {
      "cell_type": "code",
      "source": [
        "sample_text = ('The movie was cool. The animation and the graphics '\n",
        "               'were out of this world. I would recommend this movie.')\n",
        "predictions = model.predict(np.array([sample_text]))"
      ],
      "metadata": {
        "id": "qz6lTVM-nNR2"
      },
      "execution_count": null,
      "outputs": []
    },
    {
      "cell_type": "markdown",
      "source": [
        "# **Stack Two or More LSTM Layers**"
      ],
      "metadata": {
        "id": "CVaJ-fz4nOEj"
      }
    },
    {
      "cell_type": "markdown",
      "source": [
        "Lapisan berulang Keras memiliki dua mode yang tersedia yang dikontrol oleh argumen konstruktor return_sequences :\n",
        "\n",
        "- Jika False, ia hanya mengembalikan keluaran terakhir untuk setiap urutan masukan (bentuk tensor 2D (batch_size, output_features)). Ini adalah default yang digunakan pada model sebelumnya.\n",
        "\n",
        "- Jika True, Sequence lengkap output berturut-turut untuk setiap langkah waktu dikembalikan (bentuk tensor 3D (ukuran_batch, langkah waktu, fitur_output)).\n",
        "\n",
        "Berikut adalah alur informasi dengan return_sequences=True:"
      ],
      "metadata": {
        "id": "D7TPOaIMnSkR"
      }
    },
    {
      "cell_type": "markdown",
      "source": [
        "![image.png](data:image/png;base64,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)"
      ],
      "metadata": {
        "id": "uW63vaXdnc8N"
      }
    },
    {
      "cell_type": "markdown",
      "source": [
        "Hal yang menarik dari penggunaan RNN dengan return_sequences=True adalah outputnya masih memiliki 3 axis, sama seperti inputnya, sehingga bisa diteruskan ke layer RNN lain, seperti ini:"
      ],
      "metadata": {
        "id": "CGHisfQYnd0b"
      }
    },
    {
      "cell_type": "code",
      "source": [
        "model = tf.keras.Sequential([\n",
        "    encoder,\n",
        "    tf.keras.layers.Embedding(len(encoder.get_vocabulary()), 64, mask_zero=True),\n",
        "    tf.keras.layers.Bidirectional(tf.keras.layers.LSTM(64,  return_sequences=True)),\n",
        "    tf.keras.layers.Bidirectional(tf.keras.layers.LSTM(32)),\n",
        "    tf.keras.layers.Dense(64, activation='relu'),\n",
        "    tf.keras.layers.Dropout(0.5),\n",
        "    tf.keras.layers.Dense(1)\n",
        "])"
      ],
      "metadata": {
        "id": "KwynTWDgnfUt"
      },
      "execution_count": null,
      "outputs": []
    },
    {
      "cell_type": "code",
      "source": [
        "model.compile(loss=tf.keras.losses.BinaryCrossentropy(from_logits=True),\n",
        "              optimizer=tf.keras.optimizers.Adam(1e-4),\n",
        "              metrics=['accuracy'])"
      ],
      "metadata": {
        "id": "BNInUcWyngrs"
      },
      "execution_count": null,
      "outputs": []
    },
    {
      "cell_type": "code",
      "source": [
        "history = model.fit(train_dataset, epochs=10,\n",
        "                    validation_data=test_dataset,\n",
        "                    validation_steps=30)"
      ],
      "metadata": {
        "id": "gndcHrZanhXv"
      },
      "execution_count": null,
      "outputs": []
    },
    {
      "cell_type": "code",
      "source": [
        "test_loss, test_acc = model.evaluate(test_dataset)\n",
        "\n",
        "print('Test Loss:', test_loss)\n",
        "print('Test Accuracy:', test_acc)"
      ],
      "metadata": {
        "id": "5SH24799niOD"
      },
      "execution_count": null,
      "outputs": []
    },
    {
      "cell_type": "code",
      "source": [
        "# predict on a sample text without padding.\n",
        "\n",
        "sample_text = ('The movie was not good. The animation and the graphics '\n",
        "               'were terrible. I would not recommend this movie.')\n",
        "predictions = model.predict(np.array([sample_text]))\n",
        "print(predictions)"
      ],
      "metadata": {
        "id": "X7FNOZDgnjKT"
      },
      "execution_count": null,
      "outputs": []
    },
    {
      "cell_type": "code",
      "source": [
        "plt.figure(figsize=(16, 6))\n",
        "plt.subplot(1, 2, 1)\n",
        "plot_graphs(history, 'accuracy')\n",
        "plt.subplot(1, 2, 2)\n",
        "plot_graphs(history, 'loss')"
      ],
      "metadata": {
        "id": "9gUoQf-Enjzy"
      },
      "execution_count": null,
      "outputs": []
    },
    {
      "cell_type": "markdown",
      "source": [
        "# **Catatan**"
      ],
      "metadata": {
        "id": "5qkhBBK4nk5S"
      }
    },
    {
      "cell_type": "markdown",
      "source": [
        "Informasi menarik lain terkait dengan GRU layers (https://www.tensorflow.org/api_docs/python/tf/keras/layers/GRU).\n",
        "\n",
        "Informasi membuat custom RNN --> Keras RNN Guide (https://www.tensorflow.org/guide/keras/rnn)."
      ],
      "metadata": {
        "id": "pewZhDG4nm63"
      }
    }
  ]
}