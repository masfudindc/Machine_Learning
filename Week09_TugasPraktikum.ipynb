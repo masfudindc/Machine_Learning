{
  "nbformat": 4,
  "nbformat_minor": 0,
  "metadata": {
    "colab": {
      "provenance": [],
      "authorship_tag": "ABX9TyPQZ/6KpnXabaLPiRRD+KVP"
    },
    "kernelspec": {
      "name": "python3",
      "display_name": "Python 3"
    },
    "language_info": {
      "name": "python"
    }
  },
  "cells": [
    {
      "cell_type": "markdown",
      "source": [
        "# **Tugas**\n",
        "\n",
        "\n",
        "Nama Kelompok:\n",
        "\n",
        "  1. Masfudin Dwi Cahyo (2141720010)\n",
        "  2. Muhammad Akbar Nur Ihsan (2141720225)\n",
        "  3. Mukhamad Faruq Al Fahmi (2141720066)\n"
      ],
      "metadata": {
        "id": "Ltf3gD77dWzV"
      }
    },
    {
      "cell_type": "markdown",
      "source": [
        "* Lakukan klasifikasi pada data MNIST dengan menggunakan model ANN\n",
        "* Anda diperbolehkan melakukan eksplorasi terhadap,\n",
        "  * Metode pra pengolahan\n",
        "  * Pemilihan fitur\n",
        "  * Arsitektur ANN\n",
        "  * Fungsi Aktiviasi\n",
        "\n",
        "* ANN diimplementasikan dengan menggunakan `tensorflow`.\n",
        "* **DIKERJAKAN SECARA BERKELOMPOK**\n",
        "* **JELASKAN HASIL YANG ANDA DAPATKAN,**\n",
        "  * **AKURASI**\n",
        "  * **CONFUSION MATRIX**\n",
        "  * **KONFIGURASI MODEL --> MULAI DARI PRA PENGOLAHAN SAMPAI ARSITEKTUR ANN**"
      ],
      "metadata": {
        "id": "Fg7XEikde7eg"
      }
    },
    {
      "cell_type": "markdown",
      "source": [
        "### **Langkah 1 - Import Library**"
      ],
      "metadata": {
        "id": "IvWBzWhAfGco"
      }
    },
    {
      "cell_type": "code",
      "source": [
        "import tensorflow as tf\n",
        "from tensorflow import keras\n",
        "from tensorflow.keras import layers\n",
        "import matplotlib.pyplot as plt\n"
      ],
      "metadata": {
        "id": "TAR0iTBcdY8b"
      },
      "execution_count": null,
      "outputs": []
    },
    {
      "cell_type": "markdown",
      "source": [
        "### **Langkah 2 - Load Datsaset MNIST**"
      ],
      "metadata": {
        "id": "YY7Q-RGtfOPe"
      }
    },
    {
      "cell_type": "code",
      "source": [
        "mnist = keras.datasets.mnist\n",
        "(train_images, train_labels), (test_images, test_labels) = mnist.load_data()\n"
      ],
      "metadata": {
        "colab": {
          "base_uri": "https://localhost:8080/"
        },
        "id": "18JeqN1CfVYG",
        "outputId": "0e2497d6-c19e-4a9a-9995-87bf37e17d26"
      },
      "execution_count": null,
      "outputs": [
        {
          "output_type": "stream",
          "name": "stdout",
          "text": [
            "Downloading data from https://storage.googleapis.com/tensorflow/tf-keras-datasets/mnist.npz\n",
            "11490434/11490434 [==============================] - 0s 0us/step\n"
          ]
        }
      ]
    },
    {
      "cell_type": "markdown",
      "source": [
        "### **Langkah 3 - Pra Pengolahan Data**\n",
        "\n",
        "Pada tahap pra pengolahan data, kita perlu mengubah data citra menjadi bentuk yang sesuai dengan model. MNIST adalah dataset citra grayscale 28x28 piksel, jadi kita perlu meratakan (flatten) setiap citra menjadi vektor 1D."
      ],
      "metadata": {
        "id": "Lzrf5pUVgHnx"
      }
    },
    {
      "cell_type": "code",
      "source": [
        "train_images = train_images.reshape(-1, 28*28)\n",
        "test_images = test_images.reshape(-1, 28*28)\n"
      ],
      "metadata": {
        "id": "ie1GPOJkgSW1"
      },
      "execution_count": null,
      "outputs": []
    },
    {
      "cell_type": "code",
      "source": [
        "train_images = train_images / 255.0\n",
        "test_images = test_images / 255.0\n"
      ],
      "metadata": {
        "id": "44U3N5QBgUWc"
      },
      "execution_count": null,
      "outputs": []
    },
    {
      "cell_type": "markdown",
      "source": [
        "### **Langkah 4 - Arsitektur ANN**"
      ],
      "metadata": {
        "id": "Xsu_e751hDrE"
      }
    },
    {
      "cell_type": "code",
      "source": [
        "model = keras.Sequential([\n",
        "    layers.Dense(128, activation='relu', input_shape=(784,)),\n",
        "    layers.Dense(64, activation='relu'),\n",
        "    layers.Dense(10, activation='softmax')\n",
        "])\n"
      ],
      "metadata": {
        "id": "f7hWJb2fhIY8"
      },
      "execution_count": null,
      "outputs": []
    },
    {
      "cell_type": "markdown",
      "source": [
        "### **Langkah 5-Kompilasi Model**"
      ],
      "metadata": {
        "id": "aTAyt7T-hPfn"
      }
    },
    {
      "cell_type": "code",
      "source": [
        "model.compile(optimizer='adam',\n",
        "              loss='sparse_categorical_crossentropy',\n",
        "              metrics=['accuracy'])\n"
      ],
      "metadata": {
        "id": "sU7FVOk2hTqw"
      },
      "execution_count": null,
      "outputs": []
    },
    {
      "cell_type": "markdown",
      "source": [
        "### **Langkah 6-Pelatihan Model**"
      ],
      "metadata": {
        "id": "zCELeNdChc0c"
      }
    },
    {
      "cell_type": "code",
      "source": [
        "model.fit(train_images, train_labels, epochs=10, validation_split=0.2)\n"
      ],
      "metadata": {
        "colab": {
          "base_uri": "https://localhost:8080/"
        },
        "id": "saf6J7N-hf40",
        "outputId": "ab73c7eb-b4a8-4e2e-fc67-b454f0b361f3"
      },
      "execution_count": null,
      "outputs": [
        {
          "output_type": "stream",
          "name": "stdout",
          "text": [
            "Epoch 1/10\n",
            "1500/1500 [==============================] - 10s 5ms/step - loss: 0.2730 - accuracy: 0.9195 - val_loss: 0.1484 - val_accuracy: 0.9560\n",
            "Epoch 2/10\n",
            "1500/1500 [==============================] - 7s 5ms/step - loss: 0.1174 - accuracy: 0.9646 - val_loss: 0.1166 - val_accuracy: 0.9632\n",
            "Epoch 3/10\n",
            "1500/1500 [==============================] - 12s 8ms/step - loss: 0.0821 - accuracy: 0.9747 - val_loss: 0.1019 - val_accuracy: 0.9685\n",
            "Epoch 4/10\n",
            "1500/1500 [==============================] - 16s 11ms/step - loss: 0.0607 - accuracy: 0.9809 - val_loss: 0.1016 - val_accuracy: 0.9703\n",
            "Epoch 5/10\n",
            "1500/1500 [==============================] - 16s 11ms/step - loss: 0.0474 - accuracy: 0.9850 - val_loss: 0.0954 - val_accuracy: 0.9712\n",
            "Epoch 6/10\n",
            "1500/1500 [==============================] - 13s 9ms/step - loss: 0.0376 - accuracy: 0.9876 - val_loss: 0.1033 - val_accuracy: 0.9712\n",
            "Epoch 7/10\n",
            "1500/1500 [==============================] - 10s 7ms/step - loss: 0.0313 - accuracy: 0.9898 - val_loss: 0.0987 - val_accuracy: 0.9750\n",
            "Epoch 8/10\n",
            "1500/1500 [==============================] - 7s 5ms/step - loss: 0.0244 - accuracy: 0.9914 - val_loss: 0.1066 - val_accuracy: 0.9749\n",
            "Epoch 9/10\n",
            "1500/1500 [==============================] - 7s 5ms/step - loss: 0.0220 - accuracy: 0.9923 - val_loss: 0.1106 - val_accuracy: 0.9755\n",
            "Epoch 10/10\n",
            "1500/1500 [==============================] - 10s 7ms/step - loss: 0.0185 - accuracy: 0.9936 - val_loss: 0.1147 - val_accuracy: 0.9756\n"
          ]
        },
        {
          "output_type": "execute_result",
          "data": {
            "text/plain": [
              "<keras.src.callbacks.History at 0x7ca787e47670>"
            ]
          },
          "metadata": {},
          "execution_count": 39
        }
      ]
    },
    {
      "cell_type": "markdown",
      "source": [
        "### **Langkah 7-Evaluasi Model**"
      ],
      "metadata": {
        "id": "1fTUveuGhlea"
      }
    },
    {
      "cell_type": "code",
      "source": [
        "test_loss, test_accuracy = model.evaluate(test_images, test_labels)\n",
        "print(\"Test accuracy: {:.4f}\".format(test_accuracy))"
      ],
      "metadata": {
        "colab": {
          "base_uri": "https://localhost:8080/"
        },
        "id": "kCaSAu_8hwM7",
        "outputId": "45851f23-be5e-484a-817e-02d44c3aacd1"
      },
      "execution_count": null,
      "outputs": [
        {
          "output_type": "stream",
          "name": "stdout",
          "text": [
            "313/313 [==============================] - 1s 4ms/step - loss: 0.0989 - accuracy: 0.9749\n",
            "Test accuracy: 0.9749\n"
          ]
        }
      ]
    },
    {
      "cell_type": "markdown",
      "source": [
        "### **Langkah 8-Confusion Matrix**"
      ],
      "metadata": {
        "id": "jLSsJGlQiHeT"
      }
    },
    {
      "cell_type": "code",
      "source": [
        "from sklearn.metrics import confusion_matrix\n",
        "\n",
        "predicted_labels = model.predict(test_images)\n",
        "predicted_labels = [tf.argmax(label).numpy() for label in predicted_labels]\n",
        "\n",
        "confusion = confusion_matrix(test_labels, predicted_labels)\n",
        "print(confusion)\n"
      ],
      "metadata": {
        "colab": {
          "base_uri": "https://localhost:8080/"
        },
        "id": "4mXWEhKriLIn",
        "outputId": "1aaafb78-3768-442a-8f3b-dc6588a24384"
      },
      "execution_count": null,
      "outputs": [
        {
          "output_type": "stream",
          "name": "stdout",
          "text": [
            "313/313 [==============================] - 1s 3ms/step\n",
            "[[ 962    0    4    1    0    5    4    3    1    0]\n",
            " [   0 1119    3    1    0    0    2    1    9    0]\n",
            " [   2    0 1022    0    0    0    1    3    4    0]\n",
            " [   2    0   11  963    0   22    0    2    1    9]\n",
            " [   1    0    9    0  950    0    6    3    1   12]\n",
            " [   2    0    0    5    2  872    4    1    1    5]\n",
            " [   1    3    2    0    1    7  941    0    3    0]\n",
            " [   1    1   14    2    1    0    1 1005    1    2]\n",
            " [   2    0    4    6    5    6    1    3  945    2]\n",
            " [   2    2    2    3   11    6    1    9    3  970]]\n"
          ]
        }
      ]
    },
    {
      "cell_type": "markdown",
      "source": [
        "Hasil yang didapat:\n",
        "\n",
        "**1. Akurasi:**\n",
        "\n",
        "*   Akurasi model pada data uji sekitar 97,76%.\n",
        "*   Akurasi mengukur seberapa baik model ANN dapat mengklasifikasikan digit secara akurat dalam kumpulan data MNIST. Akurasi sebesar 97,76% menunjukkan bahwa model dapat mengenali sebagian besar angka dengan tingkat keberhasilan yang tinggi.\n",
        "\n",
        "\n",
        "**2. Confusion Matrix**\n",
        "\n",
        "- Confusion matrix adalah tabel 10x10 yang menggambarkan performa model dalam mengklasifikasikan digit-digit dari dataset MNIST.\n",
        "- Diagonal utama dari kiri atas ke kanan bawah menggambarkan jumlah prediksi yang benar untuk setiap kelas (digit 0 hingga 9).\n",
        "- Diagonal lainnya menunjukkan kesalahan prediksi. Misalnya, baris pertama dan kolom kedua (1st row, 2nd column) berisi jumlah gambar digit 0 yang salah diprediksi sebagai digit 1.\n",
        "- Angka-angka di matriks ini menggambarkan jumlah gambar yang terklasifikasi dengan benar (true positives) dan yang salah (false positives dan false negatives).\n",
        "- Misalnya, terdapat 2 gambar digit 0 yang salah diprediksi sebagai digit 1, dan terdapat 10 gambar digit 5 yang salah diprediksi sebagai digit 3.\n",
        "\n",
        "**3. Konfigurasi Model**\n",
        "\n",
        "\n",
        "**- Pra Pengolahan Data**\n",
        "*   Gambar dari kumpulan data MNIST yang dilatih  diubah menjadi vektor 1D dan dinormalisasi hingga berkisar dari 0 hingga 1.\n",
        "\n",
        "**- Arsitektur ANN**\n",
        "* Model menggunakan arsitektur ANN 3 layer yang terdiri dari 1 layer input, 2 layer tersembunyi dan 1 layer output.\n",
        "* Lapisan masukan dengan 784 unit (28x28 piksel) dan fungsi aktivasi ReLU.\n",
        "* Lapisan tersembunyi pertama memiliki 128 unit  aktivasi ReLU.\n",
        "* Lapisan tersembunyi kedua memiliki 64 unit  aktivasi ReLU.\n",
        "* Lapisan keluaran memiliki 10 unit (tergantung jumlah lapisan digit) dengan aktivasi softmax.\n",
        "\n",
        "**-Pelatihan Model**\n",
        "\n",
        "* Model dilatih selama 10 epoch  menggunakan pengoptimal “adam”, fungsi kerugian “sparse_categorical_crossentropy” (karena ini adalah masalah klasifikasi kelas jamak), dan pengukuran akurasi.\n",
        "\n",
        "\n",
        "**- Hasil**\n",
        "* Model ini mencapai akurasi sekitar 97,76% pada data pengujian,  menunjukkan kemampuan klasifikasi digit MNIST yang sangat baik."
      ],
      "metadata": {
        "id": "dXfxApXQP32n"
      }
    }
  ]
}